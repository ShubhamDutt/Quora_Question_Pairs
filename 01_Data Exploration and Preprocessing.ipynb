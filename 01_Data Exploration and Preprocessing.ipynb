{
 "cells": [
  {
   "cell_type": "markdown",
   "id": "2d389c3a",
   "metadata": {},
   "source": [
    "<h1 style=\"text-align:center;font-size:30px;\" > Quora Question Pairs </h1>"
   ]
  },
  {
   "cell_type": "markdown",
   "id": "971dc8ba",
   "metadata": {},
   "source": [
    "<h1> 1. Business Problem </h1>"
   ]
  },
  {
   "cell_type": "markdown",
   "id": "ef85afa2",
   "metadata": {},
   "source": [
    "<h2> 1.1 Description </h2>"
   ]
  },
  {
   "cell_type": "markdown",
   "id": "5d505eab",
   "metadata": {},
   "source": [
    "<p>Quora is a place to gain and share knowledge—about anything. It’s a platform to ask questions and connect with people who contribute unique insights and quality answers. This empowers people to learn from each other and to better understand the world.</p>\n",
    "<p>\n",
    "Over 100 million people visit Quora every month, so it's no surprise that many people ask similarly worded questions. Multiple questions with the same intent can cause seekers to spend more time finding the best answer to their question, and make writers feel they need to answer multiple versions of the same question. Quora values canonical questions because they provide a better experience to active seekers and writers, and offer more value to both of these groups in the long term.\n",
    "</p>\n",
    "<br>\n",
    "> Credits: Kaggle \n"
   ]
  },
  {
   "cell_type": "markdown",
   "id": "881433eb",
   "metadata": {},
   "source": [
    "__ Problem Statement __\n",
    "\n",
    "- Identify which questions asked on Quora are duplicates of questions that have already been asked. \n",
    "- This could be useful to instantly provide answers to questions that have already been answered. \n",
    "- We are tasked with predicting whether a pair of questions are duplicates or not. "
   ]
  },
  {
   "cell_type": "markdown",
   "id": "4499068a",
   "metadata": {},
   "source": [
    "<h2> 1.2 Sources/Useful Links</h2>"
   ]
  },
  {
   "cell_type": "markdown",
   "id": "3527ad29",
   "metadata": {},
   "source": [
    "- Source : https://www.kaggle.com/c/quora-question-pairs\n",
    "<br><br>____ Useful Links ____\n",
    "- Discussions : https://www.kaggle.com/anokas/data-analysis-xgboost-starter-0-35460-lb/comments\n",
    "- Kaggle Winning Solution and other approaches: https://www.dropbox.com/sh/93968nfnrzh8bp5/AACZdtsApc1QSTQc7X0H3QZ5a?dl=0\n",
    "- Blog 1 : https://engineering.quora.com/Semantic-Question-Matching-with-Deep-Learning\n",
    "- Blog 2 : https://towardsdatascience.com/identifying-duplicate-questions-on-quora-top-12-on-kaggle-4c1cf93f1c30"
   ]
  },
  {
   "cell_type": "markdown",
   "id": "ab019ec9",
   "metadata": {},
   "source": [
    "<h2>1.3 Real world/Business Objectives and Constraints </h2>"
   ]
  },
  {
   "cell_type": "markdown",
   "id": "b8962fc2",
   "metadata": {},
   "source": [
    "1. The cost of a mis-classification can be very high.\n",
    "2. You would want a probability of a pair of questions to be duplicates so that you can choose any threshold of choice.\n",
    "3. No strict latency concerns.\n",
    "4. Interpretability is partially important."
   ]
  },
  {
   "cell_type": "markdown",
   "id": "bef299fd",
   "metadata": {},
   "source": [
    "<h1>2. Machine Learning Problem </h1>"
   ]
  },
  {
   "cell_type": "markdown",
   "id": "32822ef9",
   "metadata": {},
   "source": [
    "<h2> 2.1 Data </h2>"
   ]
  },
  {
   "cell_type": "markdown",
   "id": "9dbb74ba",
   "metadata": {},
   "source": [
    "<h3> 2.1.1 Data Overview </h3>"
   ]
  },
  {
   "cell_type": "markdown",
   "id": "48fbf081",
   "metadata": {},
   "source": [
    "<p> \n",
    "- Data will be in a file Train.csv <br>\n",
    "- Train.csv contains 5 columns : qid1, qid2, question1, question2, is_duplicate <br>\n",
    "- Size of Train.csv - 60MB <br>\n",
    "- Number of rows in Train.csv = 404,290\n",
    "</p>"
   ]
  },
  {
   "cell_type": "markdown",
   "id": "b2ba2feb",
   "metadata": {},
   "source": [
    "<h3> 2.1.2 Example Data point </h3>"
   ]
  },
  {
   "cell_type": "markdown",
   "id": "35b0a465",
   "metadata": {},
   "source": [
    "<pre>\n",
    "\"id\",\"qid1\",\"qid2\",\"question1\",\"question2\",\"is_duplicate\"\n",
    "\"0\",\"1\",\"2\",\"What is the step by step guide to invest in share market in india?\",\"What is the step by step guide to invest in share market?\",\"0\"\n",
    "\"1\",\"3\",\"4\",\"What is the story of Kohinoor (Koh-i-Noor) Diamond?\",\"What would happen if the Indian government stole the Kohinoor (Koh-i-Noor) diamond back?\",\"0\"\n",
    "\"7\",\"15\",\"16\",\"How can I be a good geologist?\",\"What should I do to be a great geologist?\",\"1\"\n",
    "\"11\",\"23\",\"24\",\"How do I read and find my YouTube comments?\",\"How can I see all my Youtube comments?\",\"1\"\n",
    "</pre>"
   ]
  },
  {
   "cell_type": "markdown",
   "id": "c7fa5aac",
   "metadata": {},
   "source": [
    "## 2.2 Mapping the real world problem to an ML problem"
   ]
  },
  {
   "cell_type": "markdown",
   "id": "7adf18fd",
   "metadata": {},
   "source": [
    "### 2.2.1 Type of Machine Learning Problem"
   ]
  },
  {
   "cell_type": "markdown",
   "id": "94356d20",
   "metadata": {},
   "source": [
    "This is a binary classification problem, for a given pair of questions we need to predict if they are duplicate or not."
   ]
  },
  {
   "cell_type": "markdown",
   "id": "e8303715",
   "metadata": {},
   "source": [
    "### 2.2.2 Performance Metric"
   ]
  },
  {
   "cell_type": "markdown",
   "id": "3d4b58c8",
   "metadata": {},
   "source": [
    "Source: https://www.kaggle.com/c/quora-question-pairs#evaluation\n",
    "\n",
    "Metric(s):\n",
    "\n",
    "* log-loss: https://www.kaggle.com/wiki/LogarithmicLoss\n",
    "* Binary Confusion Matrix"
   ]
  },
  {
   "cell_type": "markdown",
   "id": "7bd9d608",
   "metadata": {},
   "source": [
    "## 2.3 Train and Test Construction"
   ]
  },
  {
   "cell_type": "markdown",
   "id": "08df54aa",
   "metadata": {},
   "source": [
    "We build train and test by randomly splitting in the ratio of 70:30 or 80:20 whatever we choose as we have sufficient data points to work with.\n",
    "\n",
    "Had we been given the timestamp along with the data points, we could have split the dataset into train and test based on the temporal distribution of data. With the earlier 70-80% being the training set and the latter remaining being the test set."
   ]
  },
  {
   "cell_type": "markdown",
   "id": "adbd9efb",
   "metadata": {},
   "source": [
    "# 3. Exploratory Data Analysis"
   ]
  },
  {
   "cell_type": "code",
   "execution_count": 1,
   "id": "131835e9",
   "metadata": {},
   "outputs": [
    {
     "data": {
      "text/html": [
       "        <script type=\"text/javascript\">\n",
       "        window.PlotlyConfig = {MathJaxConfig: 'local'};\n",
       "        if (window.MathJax) {MathJax.Hub.Config({SVG: {font: \"STIX-Web\"}});}\n",
       "        if (typeof require !== 'undefined') {\n",
       "        require.undef(\"plotly\");\n",
       "        requirejs.config({\n",
       "            paths: {\n",
       "                'plotly': ['https://cdn.plot.ly/plotly-2.8.3.min']\n",
       "            }\n",
       "        });\n",
       "        require(['plotly'], function(Plotly) {\n",
       "            window._Plotly = Plotly;\n",
       "        });\n",
       "        }\n",
       "        </script>\n",
       "        "
      ]
     },
     "metadata": {},
     "output_type": "display_data"
    }
   ],
   "source": [
    "import warnings\n",
    "warnings.filterwarnings(\"ignore\")\n",
    "import numpy as np\n",
    "import pandas as pd\n",
    "import seaborn as sns\n",
    "import matplotlib.pyplot as plt\n",
    "from subprocess import check_output\n",
    "%matplotlib inline\n",
    "import plotly.offline as py\n",
    "py.init_notebook_mode(connected=True)\n",
    "import plotly.graph_objs as go\n",
    "import plotly.tools as tls\n",
    "import os\n",
    "import gc\n",
    "\n",
    "import re\n",
    "from nltk.corpus import stopwords\n",
    "import distance\n",
    "from nltk.stem import PorterStemmer\n",
    "from bs4 import BeautifulSoup\n",
    "from sklearn.manifold import TSNE\n",
    "from fuzzywuzzy import fuzz\n",
    "from wordcloud import WordCloud, STOPWORDS\n",
    "from os import path\n",
    "from PIL import Image\n",
    "\n",
    "from sklearn.preprocessing import normalize\n",
    "from sklearn.feature_extraction.text import CountVectorizer\n",
    "from sklearn.feature_extraction.text import TfidfVectorizer\n",
    "import sys\n",
    "from tqdm import tqdm\n",
    "import spacy"
   ]
  },
  {
   "cell_type": "code",
   "execution_count": null,
   "id": "fef4de9f",
   "metadata": {},
   "outputs": [],
   "source": [
    "dataset = pd.read_csv('train.csv')\n",
    "print(\"Number of data points: \", dataset.shape[0])"
   ]
  },
  {
   "cell_type": "code",
   "execution_count": null,
   "id": "f53ccc7e",
   "metadata": {},
   "outputs": [],
   "source": [
    "dataset.head()"
   ]
  },
  {
   "cell_type": "code",
   "execution_count": null,
   "id": "a60c8da2",
   "metadata": {},
   "outputs": [],
   "source": [
    "dataset.info()"
   ]
  },
  {
   "cell_type": "markdown",
   "id": "a735c3c8",
   "metadata": {},
   "source": [
    "We are given a minimal number of data fields here, consisting of:\n",
    "\n",
    "* id: Looks like a simple rowID\n",
    "* qid{1,2}: The unique ID of each question in the pair\n",
    "* question{1,2}: The acutal textual contents of the questions\n",
    "* is_duplicate: The label that we are trying to predict - whether the two questions are duplicates of each other"
   ]
  },
  {
   "cell_type": "markdown",
   "id": "8dd9ea65",
   "metadata": {},
   "source": [
    "### 3.2.1 Distribution of data points among output classes\n",
    "- Number of duplicate(smilar) and non-duplicate(non similar) questions"
   ]
  },
  {
   "cell_type": "code",
   "execution_count": null,
   "id": "3e9fab92",
   "metadata": {},
   "outputs": [],
   "source": [
    "dataset.groupby('is_duplicate')['id'].count().plot.bar()"
   ]
  },
  {
   "cell_type": "code",
   "execution_count": null,
   "id": "4f4d70b3",
   "metadata": {},
   "outputs": [],
   "source": [
    "print(f\"-> Total number of question pairs for training:\\n {len(dataset)}\")"
   ]
  },
  {
   "cell_type": "code",
   "execution_count": null,
   "id": "9751668e",
   "metadata": {},
   "outputs": [],
   "source": [
    "not_similar = 100 - round(dataset['is_duplicate'].mean()*100, 2)\n",
    "print(f'Question Pairs that are not similar (is_duplicate=0)\\n{not_similar}%')"
   ]
  },
  {
   "cell_type": "code",
   "execution_count": null,
   "id": "f0c9bc67",
   "metadata": {},
   "outputs": [],
   "source": [
    "similar = round(dataset['is_duplicate'].mean()*100, 2)\n",
    "print(f'Question Pairs that are not similar (is_duplicate=1)\\n{similar}%')"
   ]
  },
  {
   "cell_type": "markdown",
   "id": "a0f21f76",
   "metadata": {},
   "source": [
    " ### 3.2.2 Number of unique questions"
   ]
  },
  {
   "cell_type": "code",
   "execution_count": null,
   "id": "408cf8a2",
   "metadata": {},
   "outputs": [],
   "source": [
    "qids = pd.Series(dataset['qid1'].tolist() + dataset['qid2'].tolist())\n",
    "unique_qs = len(np.unique(qids))\n",
    "qs_morethan_one_time = np.sum(qids.value_counts() > 1)\n",
    "\n",
    "print(f'Total number of unique questions are: {unique_qs}\\n')\n",
    "print(f\"Number of unique questions that appear more than one time: {qs_morethan_one_time}, {round((qs_morethan_one_time/unique_qs * 100),2)}%\")\n",
    "print(f\"Max number of times a single question is repeated: {max(qids.value_counts())}\")\n",
    "q_vals = qids.value_counts()\n",
    "q_vals = q_vals.values"
   ]
  },
  {
   "cell_type": "code",
   "execution_count": null,
   "id": "0983a6af",
   "metadata": {},
   "outputs": [],
   "source": [
    "x = [\"Unique Questions\", \"Repeated Questions\"]\n",
    "y = [unique_qs, qs_morethan_one_time]\n",
    "\n",
    "plt.figure(figsize=(10, 6))\n",
    "plt.title(\"Plot representing unique and repeated questions\")\n",
    "sns.barplot(x=x, y=y)\n",
    "plt.show()"
   ]
  },
  {
   "cell_type": "markdown",
   "id": "2d28927d",
   "metadata": {},
   "source": [
    "### 3.2.3 Checking for Duplicates"
   ]
  },
  {
   "cell_type": "code",
   "execution_count": null,
   "id": "babecc72",
   "metadata": {},
   "outputs": [],
   "source": [
    "pair_duplicates = dataset[['qid1', 'qid2', 'is_duplicate']].groupby(['qid1', 'qid2']).count().reset_index()\n",
    "print(\"Number of duplicate questions: \",  (pair_duplicates).shape[0] - dataset.shape[0])"
   ]
  },
  {
   "cell_type": "markdown",
   "id": "34bdf2c9",
   "metadata": {},
   "source": [
    "### 3.2.4 Number of occurrences of each question"
   ]
  },
  {
   "cell_type": "code",
   "execution_count": null,
   "id": "b292b327",
   "metadata": {},
   "outputs": [],
   "source": [
    "plt.figure(figsize=(20,10))\n",
    "plt.hist(qids.value_counts(), bins=160)\n",
    "plt.yscale('log', nonpositive='clip')\n",
    "plt.title('Log-Histogram of question appearance counts')\n",
    "plt.xlabel('Number of occurences of question')\n",
    "plt.ylabel('Number of questions')\n",
    "print (f'Maximum number of times a single question is repeated: {max(qids.value_counts())}\\n') "
   ]
  },
  {
   "cell_type": "markdown",
   "id": "729b284d",
   "metadata": {},
   "source": [
    "Since this is a logarithmic scale, we can find the y-axis values count to increase in the power of 10. 1->10->100->1000->10000->100000\n",
    "\n",
    "We can see that there is one question which has 157 occurrence while another question has 120 occurrence.\n",
    "\n",
    "There are more than 100k unique questions with the number of questions decreasing steadily"
   ]
  },
  {
   "cell_type": "markdown",
   "id": "598a2534",
   "metadata": {},
   "source": [
    "### 3.2.5 Checking for NULL values"
   ]
  },
  {
   "cell_type": "code",
   "execution_count": null,
   "id": "3c8fad84",
   "metadata": {},
   "outputs": [],
   "source": [
    "# Checking whether there are any rows with null values\n",
    "nan_rows = dataset[dataset.isnull().any(1)]\n",
    "print(nan_rows)"
   ]
  },
  {
   "cell_type": "markdown",
   "id": "2cea75cc",
   "metadata": {},
   "source": [
    "There are two null values in question2 and one in question1"
   ]
  },
  {
   "cell_type": "code",
   "execution_count": null,
   "id": "96098fbc",
   "metadata": {},
   "outputs": [],
   "source": [
    "# Filling the null values with \" \"\n",
    "dataset = dataset.fillna('')\n",
    "nan_rows = dataset[dataset.isnull().any(1)]\n",
    "print(nan_rows)"
   ]
  },
  {
   "cell_type": "markdown",
   "id": "3163f75e",
   "metadata": {},
   "source": [
    "## 3.3 Basic Feature Extraction (Before Cleaning)"
   ]
  },
  {
   "cell_type": "markdown",
   "id": "3a6d456a",
   "metadata": {},
   "source": [
    "Let us now construct a few features like:\n",
    "\n",
    "* **freq_qid1** = Frequency of qid1's\n",
    "* **freq_qid2** = Frequency of qid2's\n",
    "* **q1len** = Length of q1\n",
    "* **q2len** = Length of q2\n",
    "* **q1_n_words** = Number of words on Question 1\n",
    "* **q2_n_words** = Number of words on Question 2\n",
    "* **word_Common** = (Number of common unique words in Question 1 and Question 2)\n",
    "* **word_Total** = (Totan number of words in Question 1 + Total number of words in Question 2)\n",
    "* **word_share** = (word_Common)/(word_Total)\n",
    "* **freq_q1 + freq_q2** = sum total of frequency of qid1 and qid2\n",
    "* **freq_q1 - freq_q2** = absolute differenceof frequency of qid1 and qid2\n"
   ]
  },
  {
   "cell_type": "code",
   "execution_count": null,
   "id": "c4929a1f",
   "metadata": {},
   "outputs": [],
   "source": [
    "if os.path.isfile('df_fe_without_preprocessing_train.csv'):\n",
    "    dataset = pd.read_csv(\"df_fe_without_preprocessing_train.csv\",encoding='latin-1')\n",
    "else:\n",
    "    dataset['freq_qid1'] = dataset.groupby('qid1')['qid1'].transform('count') \n",
    "    dataset['freq_qid2'] = dataset.groupby('qid2')['qid2'].transform('count')\n",
    "    dataset['q1len'] = dataset['question1'].str.len() \n",
    "    dataset['q2len'] = dataset['question2'].str.len()\n",
    "    dataset['q1_n_words'] = dataset['question1'].apply(lambda row: len(row.split(\" \")))\n",
    "    dataset['q2_n_words'] = dataset['question2'].apply(lambda row: len(row.split(\" \")))\n",
    "\n",
    "    def normalized_word_Common(row):\n",
    "        w1 = set(map(lambda word: word.lower().strip(), row['question1'].split(\" \")))\n",
    "        w2 = set(map(lambda word: word.lower().strip(), row['question2'].split(\" \")))    \n",
    "        return 1.0 * len(w1 & w2)\n",
    "    dataset['word_Common'] = dataset.apply(normalized_word_Common, axis=1)\n",
    "\n",
    "    def normalized_word_Total(row):\n",
    "        w1 = set(map(lambda word: word.lower().strip(), row['question1'].split(\" \")))\n",
    "        w2 = set(map(lambda word: word.lower().strip(), row['question2'].split(\" \")))    \n",
    "        return 1.0 * (len(w1) + len(w2))\n",
    "    dataset['word_Total'] = dataset.apply(normalized_word_Total, axis=1)\n",
    "\n",
    "    def normalized_word_share(row):\n",
    "        w1 = set(map(lambda word: word.lower().strip(), row['question1'].split(\" \")))\n",
    "        w2 = set(map(lambda word: word.lower().strip(), row['question2'].split(\" \")))    \n",
    "        return 1.0 * len(w1 & w2)/(len(w1) + len(w2))\n",
    "    dataset['word_share'] = dataset.apply(normalized_word_share, axis=1)\n",
    "\n",
    "    dataset['freq_q1+q2'] = dataset['freq_qid1']+dataset['freq_qid2']\n",
    "    dataset['freq_q1-q2'] = abs(dataset['freq_qid1']-dataset['freq_qid2'])\n",
    "\n",
    "    dataset.to_csv(\"df_fe_without_preprocessing_train.csv\", index=False)\n",
    "\n",
    "dataset.head()"
   ]
  },
  {
   "cell_type": "markdown",
   "id": "f1cb76b8",
   "metadata": {},
   "source": [
    "### 3.3.1 Analysis of some of the extracted features"
   ]
  },
  {
   "cell_type": "code",
   "execution_count": null,
   "id": "678dfd33",
   "metadata": {},
   "outputs": [],
   "source": [
    "print(\"Minimum length of the questions in question1: \", min(dataset['q1_n_words']))\n",
    "print(\"Minimum length of the questions in question2: \", min(dataset['q2_n_words']))\n",
    "\n",
    "print(\"Number of Questions with minimum length [question1]: \", dataset[dataset['q1_n_words']==1].shape[0])\n",
    "print(\"Number of Questions with minimum length [question2]: \", dataset[dataset['q2_n_words']==1].shape[0])"
   ]
  },
  {
   "cell_type": "markdown",
   "id": "ea308e41",
   "metadata": {},
   "source": [
    "### 3.3.1.1 Feature: word_share"
   ]
  },
  {
   "cell_type": "code",
   "execution_count": null,
   "id": "5e5f439a",
   "metadata": {},
   "outputs": [],
   "source": [
    "sns.displot(data = {'1': dataset[dataset['is_duplicate'] == 1.0]['word_share'][0:], \n",
    "                    '0': dataset[dataset['is_duplicate'] == 0.0]['word_share'][0:]},\n",
    "            kind = 'kde')"
   ]
  },
  {
   "cell_type": "code",
   "execution_count": null,
   "id": "6cddb427",
   "metadata": {},
   "outputs": [],
   "source": [
    "plt.figure(figsize=(12, 8))\n",
    "\n",
    "plt.subplot(1,2,1)\n",
    "sns.violinplot(x = 'is_duplicate', y = 'word_share', data = dataset[0:])\n",
    "\n",
    "plt.subplot(1,2,1)\n",
    "sns.displot(data = {'1': dataset[dataset['is_duplicate'] == 1.0]['word_share'][0:], \n",
    "                    '0': dataset[dataset['is_duplicate'] == 0.0]['word_share'][0:]},\n",
    "            kind = 'kde')\n",
    "#sns.distplot(dataset[dataset['is_duplicate'] == 1.0]['word_share'][0:], label = \"1\", color = 'red')\n",
    "#sns.distplot(dataset[dataset['is_duplicate'] == 0.0]['word_share'][0:], label = \"0\", color = 'blue')\n",
    "plt.show()"
   ]
  },
  {
   "cell_type": "markdown",
   "id": "091eaa70",
   "metadata": {},
   "source": [
    "- The distributions for normalized word_share have some overlap on the far right-hand side, i.e., there are quite a lot of questions with high word similarity\n",
    "- The average word share and Common no. of words of qid1 and qid2 is more when they are duplicate(Similar)\n",
    "- Since there is a lot of overlap in the middle, we cannot simply create a boundary for separating for duplicates (is_duplicate=1) and unique questions(is_duplicate=0)\n",
    "- This feature created is still somewhat useful as the violin plot shows the overlap between the 75th percentiles for the two distributions"
   ]
  },
  {
   "cell_type": "markdown",
   "id": "50e27f50",
   "metadata": {},
   "source": [
    "### 3.3.1.2 Feature : word_common"
   ]
  },
  {
   "cell_type": "code",
   "execution_count": null,
   "id": "317af8a6",
   "metadata": {},
   "outputs": [],
   "source": [
    "plt.figure(figsize=(12, 8))\n",
    "\n",
    "plt.subplot(1,2,1)\n",
    "sns.violinplot(x = 'is_duplicate', y = 'word_Common', data = dataset[0:])\n",
    "\n",
    "plt.subplot(1,2,1)\n",
    "sns.displot(data = {'1': dataset[dataset['is_duplicate'] == 1.0]['word_Common'][0:], \n",
    "                    '0': dataset[dataset['is_duplicate'] == 0.0]['word_Common'][0:]},\n",
    "            kind = 'kde')\n",
    "#sns.distplot(dataset[dataset['is_duplicate'] == 1.0]['word_Common'][0:] , label = \"1\", color = 'red')\n",
    "#sns.distplot(dataset[dataset['is_duplicate'] == 0.0]['word_Common'][0:] , label = \"0\", color = 'blue')\n",
    "plt.show()"
   ]
  },
  {
   "cell_type": "markdown",
   "id": "cb9092ee",
   "metadata": {},
   "source": [
    "- The distributions of the word_Common feature in similar and non-similar questions are highly overlapping"
   ]
  },
  {
   "cell_type": "markdown",
   "id": "4019f0c4",
   "metadata": {},
   "source": [
    "## Advanced Feature Extraction"
   ]
  },
  {
   "cell_type": "markdown",
   "id": "2d9e0e3f",
   "metadata": {},
   "source": [
    "## 3.4 Preprocessing of Text"
   ]
  },
  {
   "cell_type": "markdown",
   "id": "40efd38d",
   "metadata": {},
   "source": [
    "- Preprocessing\n",
    "    - Removing HTML tags\n",
    "    - Removing punctuations\n",
    "    - Performing Stemming\n",
    "    - Removing Stopwords\n",
    "    - Expanding contractions etc. "
   ]
  },
  {
   "cell_type": "code",
   "execution_count": null,
   "id": "2bb7e70a",
   "metadata": {},
   "outputs": [],
   "source": [
    "# To get the results in 4 decimal points\n",
    "SAFE_DIV = 0.0001\n",
    "\n",
    "STOP_WORDS = stopwords.words('english')"
   ]
  },
  {
   "cell_type": "code",
   "execution_count": null,
   "id": "1c4815d1",
   "metadata": {},
   "outputs": [],
   "source": [
    "def preprocess(x):\n",
    "    x = str(x).lower()\n",
    "    x = x.replace(\",000,000\", \"m\").replace(\",000\", \"k\").replace(\"′\", \"'\").replace(\"’\", \"'\")\\\n",
    "                           .replace(\"won't\", \"will not\").replace(\"cannot\", \"can not\").replace(\"can't\", \"can not\")\\\n",
    "                           .replace(\"n't\", \" not\").replace(\"what's\", \"what is\").replace(\"it's\", \"it is\")\\\n",
    "                           .replace(\"'ve\", \" have\").replace(\"i'm\", \"i am\").replace(\"'re\", \" are\")\\\n",
    "                           .replace(\"he's\", \"he is\").replace(\"she's\", \"she is\").replace(\"'s\", \" own\")\\\n",
    "                           .replace(\"%\", \" percent \").replace(\"₹\", \" rupee \").replace(\"$\", \" dollar \")\\\n",
    "                           .replace(\"€\", \" euro \").replace(\"'ll\", \" will\")\n",
    "    x = re.sub(r\"([0-9]+)000000\", r\"\\1m\", x)\n",
    "    x = re.sub(r\"([0-9]+)000\", r\"\\1k\", x)\n",
    "    \n",
    "    porter = PorterStemmer()\n",
    "    pattern = re.compile('\\W')\n",
    "    \n",
    "    if type(x) == type(''):\n",
    "        x = re.sub(pattern, ' ', x)\n",
    "    \n",
    "    \n",
    "    if type(x) == type(''):\n",
    "        x = porter.stem(x)\n",
    "        example1 = BeautifulSoup(x)\n",
    "        x = example1.get_text()\n",
    "               \n",
    "    \n",
    "    return x\n"
   ]
  },
  {
   "cell_type": "markdown",
   "id": "22af9f6c",
   "metadata": {},
   "source": [
    "- Function to compute and get the features: With 2 parameters of Question 1 and Question 2"
   ]
  },
  {
   "cell_type": "markdown",
   "id": "952ea241",
   "metadata": {},
   "source": [
    "## 3.5 Advanced Feature Extraction (NLP and Fuzzy Features)"
   ]
  },
  {
   "cell_type": "markdown",
   "id": "79947069",
   "metadata": {},
   "source": [
    "Definition:\n",
    "\n",
    "- **Token**: You get a token by splitting sentence using a space as a separater\n",
    "- **Stop-Word**: stop words as per NLTK\n",
    "- **Word**: A token that is not a stop-word\n",
    "\n",
    "Features:\n",
    "\n",
    "- **cwc_min**: Ration of common_word_count to min_length of word count of Q1 and Q2. \n",
    "<br>\n",
    "cwc_min = common_word_count/(min(len(q1_words), len(q2_words))\n",
    "\n",
    "\n",
    "\n",
    "- __cwc_max__ :  Ratio of common_word_count to max lenghth of word count of Q1 and Q2 <br>cwc_max = common_word_count / (max(len(q1_words), len(q2_words))\n",
    "<br>\n",
    "<br>\n",
    "- __csc_min__ :  Ratio of common_stop_count to min lenghth of stop count of Q1 and Q2 <br> csc_min = common_stop_count / (min(len(q1_stops), len(q2_stops))\n",
    "<br>\n",
    "<br>\n",
    "- __csc_max__ :  Ratio of common_stop_count to max lenghth of stop count of Q1 and Q2<br>csc_max = common_stop_count / (max(len(q1_stops), len(q2_stops))\n",
    "<br>\n",
    "<br>\n",
    "- __ctc_min__ :  Ratio of common_token_count to min lenghth of token count of Q1 and Q2<br>ctc_min = common_token_count / (min(len(q1_tokens), len(q2_tokens))\n",
    "<br>\n",
    "<br>\n",
    "​\n",
    "- __ctc_max__ :  Ratio of common_token_count to max lenghth of token count of Q1 and Q2<br>ctc_max = common_token_count / (max(len(q1_tokens), len(q2_tokens))\n",
    "<br>\n",
    "<br>\n",
    "        \n",
    "- __last_word_eq__ :  Check if Last word of both questions is equal or not<br>last_word_eq = int(q1_tokens[-1] == q2_tokens[-1])\n",
    "<br>\n",
    "<br>\n",
    "​\n",
    "- __first_word_eq__ :  Check if First word of both questions is equal or not<br>first_word_eq = int(q1_tokens[0] == q2_tokens[0])\n",
    "<br>\n",
    "<br>\n",
    "        \n",
    "- __abs_len_diff__ :  Abs. length difference<br>abs_len_diff = abs(len(q1_tokens) - len(q2_tokens))\n",
    "<br>\n",
    "<br>\n",
    "​\n",
    "- __mean_len__ :  Average Token Length of both Questions<br>mean_len = (len(q1_tokens) + len(q2_tokens))/2\n",
    "<br>\n",
    "<br>\n",
    "​\n",
    "​\n",
    "- __fuzz_ratio__ :  https://github.com/seatgeek/fuzzywuzzy#usage\n",
    "http://chairnerd.seatgeek.com/fuzzywuzzy-fuzzy-string-matching-in-python/\n",
    "<br>\n",
    "<br>\n",
    "​\n",
    "- __fuzz_partial_ratio__ :  https://github.com/seatgeek/fuzzywuzzy#usage\n",
    "http://chairnerd.seatgeek.com/fuzzywuzzy-fuzzy-string-matching-in-python/\n",
    "<br>\n",
    "<br>\n",
    "​\n",
    "​\n",
    "- __token_sort_ratio__ : https://github.com/seatgeek/fuzzywuzzy#usage\n",
    "http://chairnerd.seatgeek.com/fuzzywuzzy-fuzzy-string-matching-in-python/\n",
    "<br>\n",
    "<br>\n",
    "​\n",
    "​\n",
    "- __token_set_ratio__ : https://github.com/seatgeek/fuzzywuzzy#usage\n",
    "http://chairnerd.seatgeek.com/fuzzywuzzy-fuzzy-string-matching-in-python/\n",
    "<br>\n",
    "<br>\n",
    "​\n",
    "​\n",
    "​\n",
    "​\n",
    "​\n",
    "- __longest_substr_ratio__ :  Ratio of length longest common substring to min lenghth of token count of Q1 and Q2<br>longest_substr_ratio = len(longest common substring) / (min(len(q1_tokens), len(q2_tokens))\n",
    "​\n"
   ]
  },
  {
   "cell_type": "code",
   "execution_count": null,
   "id": "57093a66",
   "metadata": {},
   "outputs": [],
   "source": [
    "def get_token_features(q1, q2):\n",
    "    token_features = [0.0]*10\n",
    "    \n",
    "    # Converting the Sentence into Tokens: \n",
    "    q1_tokens = q1.split()\n",
    "    q2_tokens = q2.split()\n",
    "\n",
    "    if len(q1_tokens) == 0 or len(q2_tokens) == 0:\n",
    "        return token_features\n",
    "    # Get the non-stopwords in Questions\n",
    "    q1_words = set([word for word in q1_tokens if word not in STOP_WORDS])\n",
    "    q2_words = set([word for word in q2_tokens if word not in STOP_WORDS])\n",
    "    \n",
    "    #Get the stopwords in Questions\n",
    "    q1_stops = set([word for word in q1_tokens if word in STOP_WORDS])\n",
    "    q2_stops = set([word for word in q2_tokens if word in STOP_WORDS])\n",
    "    \n",
    "    # Get the common non-stopwords from Question pair\n",
    "    common_word_count = len(q1_words.intersection(q2_words))\n",
    "    \n",
    "    # Get the common stopwords from Question pair\n",
    "    common_stop_count = len(q1_stops.intersection(q2_stops))\n",
    "    \n",
    "    # Get the common Tokens from Question pair\n",
    "    common_token_count = len(set(q1_tokens).intersection(set(q2_tokens)))\n",
    "    \n",
    "    \n",
    "    token_features[0] = common_word_count / (min(len(q1_words), len(q2_words)) + SAFE_DIV)\n",
    "    token_features[1] = common_word_count / (max(len(q1_words), len(q2_words)) + SAFE_DIV)\n",
    "    token_features[2] = common_stop_count / (min(len(q1_stops), len(q2_stops)) + SAFE_DIV)\n",
    "    token_features[3] = common_stop_count / (max(len(q1_stops), len(q2_stops)) + SAFE_DIV)\n",
    "    token_features[4] = common_token_count / (min(len(q1_tokens), len(q2_tokens)) + SAFE_DIV)\n",
    "    token_features[5] = common_token_count / (max(len(q1_tokens), len(q2_tokens)) + SAFE_DIV)\n",
    "    \n",
    "    # Last word of both question is same or not\n",
    "    token_features[6] = int(q1_tokens[-1] == q2_tokens[-1])\n",
    "    \n",
    "    # First word of both question is same or not\n",
    "    token_features[7] = int(q1_tokens[0] == q2_tokens[0])\n",
    "    \n",
    "    token_features[8] = abs(len(q1_tokens) - len(q2_tokens))\n",
    "    \n",
    "    #Average Token Length of both Questions\n",
    "    token_features[9] = (len(q1_tokens) + len(q2_tokens))/2\n",
    "    return token_features"
   ]
  },
  {
   "cell_type": "code",
   "execution_count": null,
   "id": "bf1aeb01",
   "metadata": {},
   "outputs": [],
   "source": [
    "# get the Longest Common sub string\n",
    "\n",
    "def get_longest_substr_ratio(a, b):\n",
    "    strs = list(distance.lcsubstrings(a, b))\n",
    "    if len(strs) == 0:\n",
    "        return 0\n",
    "    else:\n",
    "        return len(strs[0]) / (min(len(a), len(b)) + 1)"
   ]
  },
  {
   "cell_type": "code",
   "execution_count": null,
   "id": "3c1193d6",
   "metadata": {},
   "outputs": [],
   "source": [
    "def extract_features(df):\n",
    "    # preprocessing each question\n",
    "    df[\"question1\"] = df[\"question1\"].fillna(\"\").apply(preprocess)\n",
    "    df[\"question2\"] = df[\"question2\"].fillna(\"\").apply(preprocess)\n",
    "\n",
    "    print(\"token features...\")\n",
    "    \n",
    "    # Merging Features with dataset\n",
    "    \n",
    "    token_features = df.apply(lambda x: get_token_features(x[\"question1\"], x[\"question2\"]), axis=1)\n",
    "    \n",
    "    df[\"cwc_min\"]       = list(map(lambda x: x[0], token_features))\n",
    "    df[\"cwc_max\"]       = list(map(lambda x: x[1], token_features))\n",
    "    df[\"csc_min\"]       = list(map(lambda x: x[2], token_features))\n",
    "    df[\"csc_max\"]       = list(map(lambda x: x[3], token_features))\n",
    "    df[\"ctc_min\"]       = list(map(lambda x: x[4], token_features))\n",
    "    df[\"ctc_max\"]       = list(map(lambda x: x[5], token_features))\n",
    "    df[\"last_word_eq\"]  = list(map(lambda x: x[6], token_features))\n",
    "    df[\"first_word_eq\"] = list(map(lambda x: x[7], token_features))\n",
    "    df[\"abs_len_diff\"]  = list(map(lambda x: x[8], token_features))\n",
    "    df[\"mean_len\"]      = list(map(lambda x: x[9], token_features))\n",
    "   \n",
    "    #Computing Fuzzy Features and Merging with Dataset\n",
    "    \n",
    "    # do read this blog: http://chairnerd.seatgeek.com/fuzzywuzzy-fuzzy-string-matching-in-python/\n",
    "    # https://stackoverflow.com/questions/31806695/when-to-use-which-fuzz-function-to-compare-2-strings\n",
    "    # https://github.com/seatgeek/fuzzywuzzy\n",
    "    print(\"fuzzy features..\")\n",
    "\n",
    "    df[\"token_set_ratio\"]       = df.apply(lambda x: fuzz.token_set_ratio(x[\"question1\"], x[\"question2\"]), axis=1)\n",
    "    # The token sort approach involves tokenizing the string in question, sorting the tokens alphabetically, and \n",
    "    # then joining them back into a string We then compare the transformed strings with a simple ratio().\n",
    "    df[\"token_sort_ratio\"]      = df.apply(lambda x: fuzz.token_sort_ratio(x[\"question1\"], x[\"question2\"]), axis=1)\n",
    "    df[\"fuzz_ratio\"]            = df.apply(lambda x: fuzz.QRatio(x[\"question1\"], x[\"question2\"]), axis=1)\n",
    "    df[\"fuzz_partial_ratio\"]    = df.apply(lambda x: fuzz.partial_ratio(x[\"question1\"], x[\"question2\"]), axis=1)\n",
    "    df[\"longest_substr_ratio\"]  = df.apply(lambda x: get_longest_substr_ratio(x[\"question1\"], x[\"question2\"]), axis=1)\n",
    "    return df"
   ]
  },
  {
   "cell_type": "code",
   "execution_count": null,
   "id": "966f3ce8",
   "metadata": {},
   "outputs": [],
   "source": [
    "if os.path.isfile('nlp_features_train.csv'):\n",
    "    dataset = pd.read_csv(\"nlp_features_train.csv\",encoding='latin-1')\n",
    "    dataset.fillna('')\n",
    "else:\n",
    "    print(\"Extracting features for train:\")\n",
    "    dataset = pd.read_csv(\"train.csv\")\n",
    "    dataset = extract_features(df)\n",
    "    dataset.to_csv(\"nlp_features_train.csv\", index=False)\n",
    "dataset.head(2)"
   ]
  },
  {
   "cell_type": "markdown",
   "id": "a8725d48",
   "metadata": {},
   "source": [
    "### 3.5.1 Analysis of Extracted Features"
   ]
  },
  {
   "cell_type": "markdown",
   "id": "2769eca3",
   "metadata": {},
   "source": [
    "#### 3.5.1.1 Plotting Word Clouds\n",
    "\n",
    "- Creating Word Cloud of Duplicates and Non-Duplicates Question Pairs\n",
    "- We can observe the most frequent occuring words"
   ]
  },
  {
   "cell_type": "code",
   "execution_count": null,
   "id": "e762fb89",
   "metadata": {},
   "outputs": [],
   "source": [
    "df_duplicate = dataset[dataset['is_duplicate'] == 1]\n",
    "dfp_nonduplicate = dataset[dataset['is_duplicate'] == 0]\n",
    "\n",
    "# Converting 2d array of q1 and q2 and flatten the array: like {{1,2},{3,4}} to {1,2,3,4}\n",
    "p = np.dstack([df_duplicate[\"question1\"], df_duplicate[\"question2\"]]).flatten()\n",
    "n = np.dstack([dfp_nonduplicate[\"question1\"], dfp_nonduplicate[\"question2\"]]).flatten()\n",
    "\n",
    "print (\"Number of data points in class 1 (duplicate pairs) :\",len(p))\n",
    "print (\"Number of data points in class 0 (non duplicate pairs) :\",len(n))"
   ]
  },
  {
   "cell_type": "code",
   "execution_count": null,
   "id": "5a43e8d5",
   "metadata": {},
   "outputs": [],
   "source": [
    "#Saving the np array into a text file\n",
    "np.savetxt('train_p.txt', p, delimiter=' ', fmt='%s')\n",
    "np.savetxt('train_n.txt', n, delimiter=' ', fmt='%s')"
   ]
  },
  {
   "cell_type": "code",
   "execution_count": null,
   "id": "f75aadaf",
   "metadata": {},
   "outputs": [],
   "source": [
    "# reading the text files and removing the Stop Words:\n",
    "d = path.dirname('.')\n",
    "\n",
    "textp_w = open(path.join(d, 'train_p.txt')).read()\n",
    "textn_w = open(path.join(d, 'train_n.txt')).read()\n",
    "stopwords = set(STOPWORDS)\n",
    "stopwords.add(\"said\")\n",
    "stopwords.add(\"br\")\n",
    "stopwords.add(\" \")\n",
    "stopwords.remove(\"not\")\n",
    "\n",
    "stopwords.remove(\"no\")\n",
    "#stopwords.remove(\"good\")\n",
    "#stopwords.remove(\"love\")\n",
    "#stopwords.remove(\"like\")\n",
    "#stopwords.remove(\"best\")\n",
    "#stopwords.remove(\"!\")\n",
    "print (\"Total number of words in duplicate pair questions :\",len(textp_w))\n",
    "print (\"Total number of words in non duplicate pair questions :\",len(textn_w))"
   ]
  },
  {
   "cell_type": "markdown",
   "id": "8335e84f",
   "metadata": {},
   "source": [
    "__ Word Clouds generated from  duplicate pair question's text __"
   ]
  },
  {
   "cell_type": "code",
   "execution_count": null,
   "id": "967e7fff",
   "metadata": {},
   "outputs": [],
   "source": [
    "wc = WordCloud(background_color=\"white\", max_words=len(textp_w), stopwords=stopwords)\n",
    "wc.generate(textp_w)\n",
    "print (\"Word Cloud for Duplicate Question pairs\")\n",
    "plt.imshow(wc, interpolation='bilinear')\n",
    "plt.axis(\"off\")\n",
    "plt.show()"
   ]
  },
  {
   "cell_type": "code",
   "execution_count": null,
   "id": "5471ad49",
   "metadata": {},
   "outputs": [],
   "source": [
    "wc = WordCloud(background_color=\"white\", max_words=len(textn_w),stopwords=stopwords)\n",
    "# generate word cloud\n",
    "wc.generate(textn_w)\n",
    "print (\"Word Cloud for non-Duplicate Question pairs:\")\n",
    "plt.imshow(wc, interpolation='bilinear')\n",
    "plt.axis(\"off\")\n",
    "plt.show()"
   ]
  },
  {
   "cell_type": "markdown",
   "id": "95866ec3",
   "metadata": {},
   "source": [
    "<h4> 3.5.1.2 Pair plot of features ['ctc_min', 'cwc_min', 'csc_min', 'token_sort_ratio'] </h4>"
   ]
  },
  {
   "cell_type": "code",
   "execution_count": null,
   "id": "f3b51fd1",
   "metadata": {},
   "outputs": [],
   "source": [
    "n = dataset.shape[0]\n",
    "sns.pairplot(dataset[['ctc_min', 'cwc_min', 'csc_min', 'token_sort_ratio', 'is_duplicate']][0:n], hue='is_duplicate', vars=['ctc_min', 'cwc_min', 'csc_min', 'token_sort_ratio'])\n",
    "plt.show()"
   ]
  },
  {
   "cell_type": "code",
   "execution_count": null,
   "id": "c6a4d277",
   "metadata": {},
   "outputs": [],
   "source": [
    "# Distribution of the token_sort_ratio\n",
    "plt.figure(figsize=(10, 8))\n",
    "\n",
    "plt.subplot(1,2,1)\n",
    "sns.violinplot(x = 'is_duplicate', y = 'token_sort_ratio', data = dataset[0:] , )\n",
    "\n",
    "plt.subplot(1,2,2)\n",
    "sns.distplot(dataset[dataset['is_duplicate'] == 1.0]['token_sort_ratio'][0:] , label = \"1\", color = 'red')\n",
    "sns.distplot(dataset[dataset['is_duplicate'] == 0.0]['token_sort_ratio'][0:] , label = \"0\" , color = 'blue' )\n",
    "plt.show()"
   ]
  },
  {
   "cell_type": "code",
   "execution_count": null,
   "id": "59c8d9b3",
   "metadata": {},
   "outputs": [],
   "source": [
    "plt.figure(figsize=(10, 8))\n",
    "\n",
    "plt.subplot(1,2,1)\n",
    "sns.violinplot(x = 'is_duplicate', y = 'fuzz_ratio', data = dataset[0:] , )\n",
    "\n",
    "plt.subplot(1,2,2)\n",
    "sns.distplot(dataset[dataset['is_duplicate'] == 1.0]['fuzz_ratio'][0:] , label = \"1\", color = 'red')\n",
    "sns.distplot(dataset[dataset['is_duplicate'] == 0.0]['fuzz_ratio'][0:] , label = \"0\" , color = 'blue' )\n",
    "plt.show()"
   ]
  },
  {
   "cell_type": "markdown",
   "id": "7983b42b",
   "metadata": {},
   "source": [
    "### 3.5.2 Visualisation"
   ]
  },
  {
   "cell_type": "code",
   "execution_count": null,
   "id": "ab80af8d",
   "metadata": {},
   "outputs": [],
   "source": [
    "# Using TSNE for Dimentionality reduction for 15 Features(Generated after cleaning the data) to 3 dimention\n",
    "\n",
    "from sklearn.preprocessing import MinMaxScaler\n",
    "\n",
    "dfp_subsampled = dataset[0:5000]\n",
    "X = MinMaxScaler().fit_transform(dfp_subsampled[['cwc_min', 'cwc_max', 'csc_min', 'csc_max' , 'ctc_min' , 'ctc_max' , 'last_word_eq', 'first_word_eq' , 'abs_len_diff' , 'mean_len' , 'token_set_ratio' , 'token_sort_ratio' ,  'fuzz_ratio' , 'fuzz_partial_ratio' , 'longest_substr_ratio']])\n",
    "y = dfp_subsampled['is_duplicate'].values"
   ]
  },
  {
   "cell_type": "code",
   "execution_count": null,
   "id": "dbb48b55",
   "metadata": {},
   "outputs": [],
   "source": [
    "tsne2d = TSNE(\n",
    "    n_components=2,\n",
    "    init='random', # pca\n",
    "    random_state=101,\n",
    "    method='barnes_hut',\n",
    "    n_iter=1000,\n",
    "    verbose=2,\n",
    "    angle=0.5\n",
    ").fit_transform(X)"
   ]
  },
  {
   "cell_type": "code",
   "execution_count": null,
   "id": "59d06188",
   "metadata": {},
   "outputs": [],
   "source": [
    "df = pd.DataFrame({'x':tsne2d[:,0], 'y':tsne2d[:,1] ,'label':y})\n",
    "\n",
    "# draw the plot in appropriate place in the grid\n",
    "sns.lmplot(data=df, x='x', y='y', hue='label', fit_reg=False, size=8,palette=\"Set1\",markers=['s','o'])\n",
    "plt.title(\"perplexity : {} and max_iter : {}\".format(30, 1000))\n",
    "plt.show()"
   ]
  },
  {
   "cell_type": "code",
   "execution_count": null,
   "id": "9f62b6c5",
   "metadata": {},
   "outputs": [],
   "source": [
    "from sklearn.manifold import TSNE\n",
    "tsne3d = TSNE(\n",
    "    n_components=3,\n",
    "    init='random', # pca\n",
    "    random_state=101,\n",
    "    method='barnes_hut',\n",
    "    n_iter=1000,\n",
    "    verbose=2,\n",
    "    angle=0.5\n",
    ").fit_transform(X)"
   ]
  },
  {
   "cell_type": "code",
   "execution_count": null,
   "id": "8f0fe62c",
   "metadata": {},
   "outputs": [],
   "source": [
    "trace1 = go.Scatter3d(\n",
    "    x=tsne3d[:,0],\n",
    "    y=tsne3d[:,1],\n",
    "    z=tsne3d[:,2],\n",
    "    mode='markers',\n",
    "    marker=dict(\n",
    "        sizemode='diameter',\n",
    "        color = y,\n",
    "        colorscale = 'Portland',\n",
    "        colorbar = dict(title = 'duplicate'),\n",
    "        line=dict(color='rgb(255, 255, 255)'),\n",
    "        opacity=0.75\n",
    "    )\n",
    ")\n",
    "\n",
    "data=[trace1]\n",
    "layout=dict(height=800, width=800, title='3d embedding with engineered features')\n",
    "fig=dict(data=data, layout=layout)\n",
    "py.iplot(fig, filename='3DBubble')"
   ]
  },
  {
   "cell_type": "markdown",
   "id": "42051db8",
   "metadata": {},
   "source": [
    "## 3.6 Featurizing text data with tfidf weighted word-vectors"
   ]
  },
  {
   "cell_type": "code",
   "execution_count": null,
   "id": "993ff38f",
   "metadata": {},
   "outputs": [],
   "source": [
    "# avoid decoding problems\n",
    "dataset = pd.read_csv(\"train.csv\")\n",
    " \n",
    "# encode questions to unicode\n",
    "dataset['question1'] = dataset['question1'].apply(lambda x: str(x))\n",
    "dataset['question2'] = dataset['question2'].apply(lambda x: str(x))"
   ]
  },
  {
   "cell_type": "code",
   "execution_count": null,
   "id": "617934de",
   "metadata": {},
   "outputs": [],
   "source": [
    "dataset.head()"
   ]
  },
  {
   "cell_type": "code",
   "execution_count": null,
   "id": "632a9b31",
   "metadata": {},
   "outputs": [],
   "source": [
    "# merge texts\n",
    "questions = list(dataset['question1']) + list(dataset['question2'])\n",
    "\n",
    "tfidf = TfidfVectorizer(lowercase=False, )\n",
    "tfidf.fit_transform(questions)\n",
    "\n",
    "# dict key:word and value:tf-idf score\n",
    "word2tfidf = dict(zip(tfidf.get_feature_names(), tfidf.idf_))"
   ]
  },
  {
   "cell_type": "markdown",
   "id": "8589c33c",
   "metadata": {},
   "source": [
    "- After we find TF-IDF scores, we convert each question to a weighted average of word2vec vectors by these scores.\n",
    "- here we use a pre-trained GLOVE model which comes free with \"Spacy\".  https://spacy.io/usage/vectors-similarity\n",
    "- It is trained on Wikipedia and therefore, it is stronger in terms of word semantics. "
   ]
  },
  {
   "cell_type": "code",
   "execution_count": null,
   "id": "3ccb7c4c",
   "metadata": {},
   "outputs": [],
   "source": [
    "# en_vectors_web_lg, which includes over 1 million unique vectors.\n",
    "\n",
    "spacy.prefer_gpu()\n",
    "nlp = spacy.load(\"en_core_web_sm\")"
   ]
  },
  {
   "cell_type": "code",
   "execution_count": null,
   "id": "e129bf85",
   "metadata": {},
   "outputs": [],
   "source": [
    "vecs1 = []\n",
    "# https://github.com/noamraph/tqdm\n",
    "# tqdm is used to print the progress bar\n",
    "for qu1 in tqdm(list(dataset['question1'])):\n",
    "    doc1 = nlp(qu1) \n",
    "    # 384 is the number of dimensions of vectors \n",
    "    mean_vec1 = np.zeros([len(doc1), len(doc1[0].vector)])\n",
    "    for word1 in doc1:\n",
    "        # word2vec\n",
    "        vec1 = word1.vector\n",
    "        # fetch dataset score\n",
    "        try:\n",
    "            idf = word2tfidf[str(word1)]\n",
    "        except:\n",
    "            idf = 0\n",
    "        # compute final vec\n",
    "        mean_vec1 += vec1 * idf\n",
    "    mean_vec1 = mean_vec1.mean(axis=0)\n",
    "    vecs1.append(mean_vec1)\n",
    "dataset['q1_feats_m'] = list(vecs1)"
   ]
  },
  {
   "cell_type": "code",
   "execution_count": null,
   "id": "092c5f40",
   "metadata": {},
   "outputs": [],
   "source": [
    "vecs2 = []\n",
    "for qu2 in tqdm(list(dataset['question2'])):\n",
    "    doc2 = nlp(qu2) \n",
    "    mean_vec2 = np.zeros([len(doc1), len(doc2[0].vector)])\n",
    "    for word2 in doc2:\n",
    "        # word2vec\n",
    "        vec2 = word2.vector\n",
    "        # fetch dataset score\n",
    "        try:\n",
    "            idf = word2tfidf[str(word2)]\n",
    "        except:\n",
    "            #print word\n",
    "            idf = 0\n",
    "        # compute final vec\n",
    "        mean_vec2 += vec2 * idf\n",
    "    mean_vec2 = mean_vec2.mean(axis=0)\n",
    "    vecs2.append(mean_vec2)\n",
    "dataset['q2_feats_m'] = list(vecs2)"
   ]
  },
  {
   "cell_type": "code",
   "execution_count": null,
   "id": "a5fff88b",
   "metadata": {},
   "outputs": [],
   "source": [
    "# prepro_features_train.csv (Simple Preprocessing Features)\n",
    "# nlp_features_train.csv (NLP Features)\n",
    "\n",
    "if os.path.isfile('nlp_features_train.csv'):\n",
    "    dfnlp = pd.read_csv('nlp_features_train.csv', encoding='latin-1')\n",
    "else:\n",
    "    print(\"Download nlp_features_train.csv from drive or run previous notebook\")\n",
    "\n",
    "if os.path.isfile('df_fe_without_preprocessing_train.csv'):\n",
    "    dfppro = pd.read_csv(\"df_fe_without_preprocessing_train.csv\", encoding='latin-1')\n",
    "else:\n",
    "    print(\"Download df_fe_without_preprocessing_train.csv from drive or run previous notebook\")"
   ]
  },
  {
   "cell_type": "code",
   "execution_count": null,
   "id": "0e954197",
   "metadata": {},
   "outputs": [],
   "source": [
    "df1 = dfnlp.drop(['qid1', 'qid2', 'question1', 'question2'], axis = 1)\n",
    "df2 = dfppro.drop(['qid1', 'qid2', 'question1', 'question2', 'is_duplicate'], axis = 1)\n",
    "df3 = dataset.drop(['qid1', 'qid2', 'question1', 'question2', 'is_duplicate'], axis = 1)\n",
    "df3_q1 = pd.DataFrame(df3.q1_feats_m.values.tolist(), index = df3.index)\n",
    "df3_q2 = pd.DataFrame(df3.q2_feats_m.values.tolist(), index = df3.index)"
   ]
  },
  {
   "cell_type": "code",
   "execution_count": null,
   "id": "74489275",
   "metadata": {},
   "outputs": [],
   "source": [
    "# Data Frame of NLP features\n",
    "df1.head()"
   ]
  },
  {
   "cell_type": "code",
   "execution_count": null,
   "id": "18dbb917",
   "metadata": {},
   "outputs": [],
   "source": [
    "# Data before preprocessing\n",
    "df2.head()"
   ]
  },
  {
   "cell_type": "code",
   "execution_count": null,
   "id": "04b567aa",
   "metadata": {},
   "outputs": [],
   "source": [
    "# Questions 1 TF-IDF Weighted Word2Vec\n",
    "df3_q1.head()"
   ]
  },
  {
   "cell_type": "code",
   "execution_count": null,
   "id": "775175fd",
   "metadata": {},
   "outputs": [],
   "source": [
    "# Questions 2 tfidf weighted word2vec\n",
    "df3_q2.head()"
   ]
  },
  {
   "cell_type": "code",
   "execution_count": null,
   "id": "44bdd282",
   "metadata": {},
   "outputs": [],
   "source": [
    "print(\"Number of features in nlp dataframe :\", df1.shape[1])\n",
    "print(\"Number of features in preprocessed dataframe :\", df2.shape[1])\n",
    "print(\"Number of features in question1 w2v dataframe :\", df3_q1.shape[1])\n",
    "print(\"Number of features in question2 w2v dataframe :\", df3_q2.shape[1])\n",
    "print(\"Number of features in final dataframe :\", df1.shape[1] + df2.shape[1] + df3_q1.shape[1] + df3_q2.shape[1])"
   ]
  },
  {
   "cell_type": "code",
   "execution_count": null,
   "id": "345f3a8e",
   "metadata": {},
   "outputs": [],
   "source": [
    "# storing the final features to csv file\n",
    "if not os.path.isfile('final_features.csv'):\n",
    "    df3_q1['id']=df1['id']\n",
    "    df3_q2['id']=df1['id']\n",
    "    df1  = df1.merge(df2, on='id',how='left')\n",
    "    df2  = df3_q1.merge(df3_q2, on='id',how='left')\n",
    "    result  = df1.merge(df2, on='id',how='left')\n",
    "    result.to_csv('final_features.csv')"
   ]
  }
 ],
 "metadata": {
  "kernelspec": {
   "display_name": "Python 3",
   "language": "python",
   "name": "python3"
  },
  "language_info": {
   "codemirror_mode": {
    "name": "ipython",
    "version": 3
   },
   "file_extension": ".py",
   "mimetype": "text/x-python",
   "name": "python",
   "nbconvert_exporter": "python",
   "pygments_lexer": "ipython3",
   "version": "3.8.8"
  }
 },
 "nbformat": 4,
 "nbformat_minor": 5
}
